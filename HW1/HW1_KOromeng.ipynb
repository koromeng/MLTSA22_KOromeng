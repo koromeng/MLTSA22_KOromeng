{
  "nbformat": 4,
  "nbformat_minor": 0,
  "metadata": {
    "colab": {
      "name": "HW1_KOromeng",
      "provenance": [],
      "authorship_tag": "ABX9TyM03yBNV3C9lDWKo2OFJMcb",
      "include_colab_link": true
    },
    "kernelspec": {
      "name": "python3",
      "display_name": "Python 3"
    },
    "language_info": {
      "name": "python"
    }
  },
  "cells": [
    {
      "cell_type": "markdown",
      "metadata": {
        "id": "view-in-github",
        "colab_type": "text"
      },
      "source": [
        "<a href=\"https://colab.research.google.com/github/koromeng/MLTSA22_KOromeng/blob/main/HW1/HW1_KOromeng.ipynb\" target=\"_parent\"><img src=\"https://colab.research.google.com/assets/colab-badge.svg\" alt=\"Open In Colab\"/></a>"
      ]
    },
    {
      "cell_type": "markdown",
      "source": [
        "## Assignment 1- Fitting a line to GRB afterglow photometry"
      ],
      "metadata": {
        "id": "kKsqJy3TtDdB"
      }
    },
    {
      "cell_type": "markdown",
      "source": [
        "Using different methods to fit the simplet model to data -a line. We will explore different method."
      ],
      "metadata": {
        "id": "hFxyrAzmtNCt"
      }
    },
    {
      "cell_type": "code",
      "execution_count": 78,
      "metadata": {
        "colab": {
          "base_uri": "https://localhost:8080/"
        },
        "id": "b9MhBRdYV98C",
        "outputId": "33a4661c-d051-42c9-b88e-f89f7061d0a9"
      },
      "outputs": [
        {
          "output_type": "stream",
          "name": "stdout",
          "text": [
            "Populating the interactive namespace from numpy and matplotlib\n"
          ]
        },
        {
          "output_type": "stream",
          "name": "stderr",
          "text": [
            "/usr/local/lib/python3.7/dist-packages/IPython/core/magics/pylab.py:161: UserWarning: pylab import has clobbered these variables: ['f']\n",
            "`%matplotlib` prevents importing * from pylab and numpy\n",
            "  \"\\n`%matplotlib` prevents importing * from pylab and numpy\"\n"
          ]
        }
      ],
      "source": [
        "##Initial imports - Pandas, numpy and pylab\n",
        "import pandas as pd\n",
        "import pylab as pl\n",
        "import numpy as np\n",
        "%pylab inline\n",
        "\n",
        "##A stylesheet to design/define plot viz parameters from Dr. Bianco \n",
        "pl.style.use(\"https://raw.githubusercontent.com/fedhere/MLTSA22_FBianco/master/fbb.mplstyle\")\n",
        "pl.rcParams['font.size'] = 20"
      ]
    },
    {
      "cell_type": "markdown",
      "source": [
        "#Reading and preparing input dataset"
      ],
      "metadata": {
        "id": "wdHUmWeVnH0k"
      }
    },
    {
      "cell_type": "code",
      "source": [
        "#Read the dataset, we use pandas for this\n",
        "grbAG = pd.read_csv(\"https://raw.githubusercontent.com/fedhere/\"+\n",
        "                    \"MLTSA22_FBianco/main/HW1/grb050525A.csv\")\n",
        "grbAG.head() #spits out the first 5 entries"
      ],
      "metadata": {
        "id": "k7hzMFNLtx0d",
        "colab": {
          "base_uri": "https://localhost:8080/",
          "height": 206
        },
        "outputId": "e5fed3d7-b3b2-404a-a8ed-ee47e503663c"
      },
      "execution_count": 79,
      "outputs": [
        {
          "output_type": "execute_result",
          "data": {
            "text/html": [
              "\n",
              "  <div id=\"df-4a5089b3-0f4d-465c-af75-3955ff22e9eb\">\n",
              "    <div class=\"colab-df-container\">\n",
              "      <div>\n",
              "<style scoped>\n",
              "    .dataframe tbody tr th:only-of-type {\n",
              "        vertical-align: middle;\n",
              "    }\n",
              "\n",
              "    .dataframe tbody tr th {\n",
              "        vertical-align: top;\n",
              "    }\n",
              "\n",
              "    .dataframe thead th {\n",
              "        text-align: right;\n",
              "    }\n",
              "</style>\n",
              "<table border=\"1\" class=\"dataframe\">\n",
              "  <thead>\n",
              "    <tr style=\"text-align: right;\">\n",
              "      <th></th>\n",
              "      <th>filter</th>\n",
              "      <th>time</th>\n",
              "      <th>mag</th>\n",
              "      <th>magerr</th>\n",
              "      <th>upperlimit</th>\n",
              "    </tr>\n",
              "  </thead>\n",
              "  <tbody>\n",
              "    <tr>\n",
              "      <th>0</th>\n",
              "      <td>V</td>\n",
              "      <td>66</td>\n",
              "      <td>13.21</td>\n",
              "      <td>0.24</td>\n",
              "      <td>0</td>\n",
              "    </tr>\n",
              "    <tr>\n",
              "      <th>1</th>\n",
              "      <td>V</td>\n",
              "      <td>67</td>\n",
              "      <td>12.90</td>\n",
              "      <td>0.23</td>\n",
              "      <td>0</td>\n",
              "    </tr>\n",
              "    <tr>\n",
              "      <th>2</th>\n",
              "      <td>V</td>\n",
              "      <td>68</td>\n",
              "      <td>12.86</td>\n",
              "      <td>0.23</td>\n",
              "      <td>0</td>\n",
              "    </tr>\n",
              "    <tr>\n",
              "      <th>3</th>\n",
              "      <td>V</td>\n",
              "      <td>69</td>\n",
              "      <td>13.01</td>\n",
              "      <td>0.23</td>\n",
              "      <td>0</td>\n",
              "    </tr>\n",
              "    <tr>\n",
              "      <th>4</th>\n",
              "      <td>V</td>\n",
              "      <td>70</td>\n",
              "      <td>12.97</td>\n",
              "      <td>0.23</td>\n",
              "      <td>0</td>\n",
              "    </tr>\n",
              "  </tbody>\n",
              "</table>\n",
              "</div>\n",
              "      <button class=\"colab-df-convert\" onclick=\"convertToInteractive('df-4a5089b3-0f4d-465c-af75-3955ff22e9eb')\"\n",
              "              title=\"Convert this dataframe to an interactive table.\"\n",
              "              style=\"display:none;\">\n",
              "        \n",
              "  <svg xmlns=\"http://www.w3.org/2000/svg\" height=\"24px\"viewBox=\"0 0 24 24\"\n",
              "       width=\"24px\">\n",
              "    <path d=\"M0 0h24v24H0V0z\" fill=\"none\"/>\n",
              "    <path d=\"M18.56 5.44l.94 2.06.94-2.06 2.06-.94-2.06-.94-.94-2.06-.94 2.06-2.06.94zm-11 1L8.5 8.5l.94-2.06 2.06-.94-2.06-.94L8.5 2.5l-.94 2.06-2.06.94zm10 10l.94 2.06.94-2.06 2.06-.94-2.06-.94-.94-2.06-.94 2.06-2.06.94z\"/><path d=\"M17.41 7.96l-1.37-1.37c-.4-.4-.92-.59-1.43-.59-.52 0-1.04.2-1.43.59L10.3 9.45l-7.72 7.72c-.78.78-.78 2.05 0 2.83L4 21.41c.39.39.9.59 1.41.59.51 0 1.02-.2 1.41-.59l7.78-7.78 2.81-2.81c.8-.78.8-2.07 0-2.86zM5.41 20L4 18.59l7.72-7.72 1.47 1.35L5.41 20z\"/>\n",
              "  </svg>\n",
              "      </button>\n",
              "      \n",
              "  <style>\n",
              "    .colab-df-container {\n",
              "      display:flex;\n",
              "      flex-wrap:wrap;\n",
              "      gap: 12px;\n",
              "    }\n",
              "\n",
              "    .colab-df-convert {\n",
              "      background-color: #E8F0FE;\n",
              "      border: none;\n",
              "      border-radius: 50%;\n",
              "      cursor: pointer;\n",
              "      display: none;\n",
              "      fill: #1967D2;\n",
              "      height: 32px;\n",
              "      padding: 0 0 0 0;\n",
              "      width: 32px;\n",
              "    }\n",
              "\n",
              "    .colab-df-convert:hover {\n",
              "      background-color: #E2EBFA;\n",
              "      box-shadow: 0px 1px 2px rgba(60, 64, 67, 0.3), 0px 1px 3px 1px rgba(60, 64, 67, 0.15);\n",
              "      fill: #174EA6;\n",
              "    }\n",
              "\n",
              "    [theme=dark] .colab-df-convert {\n",
              "      background-color: #3B4455;\n",
              "      fill: #D2E3FC;\n",
              "    }\n",
              "\n",
              "    [theme=dark] .colab-df-convert:hover {\n",
              "      background-color: #434B5C;\n",
              "      box-shadow: 0px 1px 3px 1px rgba(0, 0, 0, 0.15);\n",
              "      filter: drop-shadow(0px 1px 2px rgba(0, 0, 0, 0.3));\n",
              "      fill: #FFFFFF;\n",
              "    }\n",
              "  </style>\n",
              "\n",
              "      <script>\n",
              "        const buttonEl =\n",
              "          document.querySelector('#df-4a5089b3-0f4d-465c-af75-3955ff22e9eb button.colab-df-convert');\n",
              "        buttonEl.style.display =\n",
              "          google.colab.kernel.accessAllowed ? 'block' : 'none';\n",
              "\n",
              "        async function convertToInteractive(key) {\n",
              "          const element = document.querySelector('#df-4a5089b3-0f4d-465c-af75-3955ff22e9eb');\n",
              "          const dataTable =\n",
              "            await google.colab.kernel.invokeFunction('convertToInteractive',\n",
              "                                                     [key], {});\n",
              "          if (!dataTable) return;\n",
              "\n",
              "          const docLinkHtml = 'Like what you see? Visit the ' +\n",
              "            '<a target=\"_blank\" href=https://colab.research.google.com/notebooks/data_table.ipynb>data table notebook</a>'\n",
              "            + ' to learn more about interactive tables.';\n",
              "          element.innerHTML = '';\n",
              "          dataTable['output_type'] = 'display_data';\n",
              "          await google.colab.output.renderOutput(dataTable, element);\n",
              "          const docLink = document.createElement('div');\n",
              "          docLink.innerHTML = docLinkHtml;\n",
              "          element.appendChild(docLink);\n",
              "        }\n",
              "      </script>\n",
              "    </div>\n",
              "  </div>\n",
              "  "
            ],
            "text/plain": [
              "  filter  time    mag  magerr  upperlimit\n",
              "0      V    66  13.21    0.24           0\n",
              "1      V    67  12.90    0.23           0\n",
              "2      V    68  12.86    0.23           0\n",
              "3      V    69  13.01    0.23           0\n",
              "4      V    70  12.97    0.23           0"
            ]
          },
          "metadata": {},
          "execution_count": 79
        }
      ]
    },
    {
      "cell_type": "code",
      "source": [
        "##Creating the log-time variable\n",
        "grbAG[\"logtime\"]=np.log10(grbAG.time)\n",
        "grbAG.head() #view to check if a new variable logtime has been added"
      ],
      "metadata": {
        "colab": {
          "base_uri": "https://localhost:8080/",
          "height": 206
        },
        "id": "2BiNhnrdueSE",
        "outputId": "aa0110ea-28c1-4279-bed3-d7eb82ee0eaf"
      },
      "execution_count": 80,
      "outputs": [
        {
          "output_type": "execute_result",
          "data": {
            "text/html": [
              "\n",
              "  <div id=\"df-8deacae6-e8ab-4ce5-acdd-6f5724b44b04\">\n",
              "    <div class=\"colab-df-container\">\n",
              "      <div>\n",
              "<style scoped>\n",
              "    .dataframe tbody tr th:only-of-type {\n",
              "        vertical-align: middle;\n",
              "    }\n",
              "\n",
              "    .dataframe tbody tr th {\n",
              "        vertical-align: top;\n",
              "    }\n",
              "\n",
              "    .dataframe thead th {\n",
              "        text-align: right;\n",
              "    }\n",
              "</style>\n",
              "<table border=\"1\" class=\"dataframe\">\n",
              "  <thead>\n",
              "    <tr style=\"text-align: right;\">\n",
              "      <th></th>\n",
              "      <th>filter</th>\n",
              "      <th>time</th>\n",
              "      <th>mag</th>\n",
              "      <th>magerr</th>\n",
              "      <th>upperlimit</th>\n",
              "      <th>logtime</th>\n",
              "    </tr>\n",
              "  </thead>\n",
              "  <tbody>\n",
              "    <tr>\n",
              "      <th>0</th>\n",
              "      <td>V</td>\n",
              "      <td>66</td>\n",
              "      <td>13.21</td>\n",
              "      <td>0.24</td>\n",
              "      <td>0</td>\n",
              "      <td>1.819544</td>\n",
              "    </tr>\n",
              "    <tr>\n",
              "      <th>1</th>\n",
              "      <td>V</td>\n",
              "      <td>67</td>\n",
              "      <td>12.90</td>\n",
              "      <td>0.23</td>\n",
              "      <td>0</td>\n",
              "      <td>1.826075</td>\n",
              "    </tr>\n",
              "    <tr>\n",
              "      <th>2</th>\n",
              "      <td>V</td>\n",
              "      <td>68</td>\n",
              "      <td>12.86</td>\n",
              "      <td>0.23</td>\n",
              "      <td>0</td>\n",
              "      <td>1.832509</td>\n",
              "    </tr>\n",
              "    <tr>\n",
              "      <th>3</th>\n",
              "      <td>V</td>\n",
              "      <td>69</td>\n",
              "      <td>13.01</td>\n",
              "      <td>0.23</td>\n",
              "      <td>0</td>\n",
              "      <td>1.838849</td>\n",
              "    </tr>\n",
              "    <tr>\n",
              "      <th>4</th>\n",
              "      <td>V</td>\n",
              "      <td>70</td>\n",
              "      <td>12.97</td>\n",
              "      <td>0.23</td>\n",
              "      <td>0</td>\n",
              "      <td>1.845098</td>\n",
              "    </tr>\n",
              "  </tbody>\n",
              "</table>\n",
              "</div>\n",
              "      <button class=\"colab-df-convert\" onclick=\"convertToInteractive('df-8deacae6-e8ab-4ce5-acdd-6f5724b44b04')\"\n",
              "              title=\"Convert this dataframe to an interactive table.\"\n",
              "              style=\"display:none;\">\n",
              "        \n",
              "  <svg xmlns=\"http://www.w3.org/2000/svg\" height=\"24px\"viewBox=\"0 0 24 24\"\n",
              "       width=\"24px\">\n",
              "    <path d=\"M0 0h24v24H0V0z\" fill=\"none\"/>\n",
              "    <path d=\"M18.56 5.44l.94 2.06.94-2.06 2.06-.94-2.06-.94-.94-2.06-.94 2.06-2.06.94zm-11 1L8.5 8.5l.94-2.06 2.06-.94-2.06-.94L8.5 2.5l-.94 2.06-2.06.94zm10 10l.94 2.06.94-2.06 2.06-.94-2.06-.94-.94-2.06-.94 2.06-2.06.94z\"/><path d=\"M17.41 7.96l-1.37-1.37c-.4-.4-.92-.59-1.43-.59-.52 0-1.04.2-1.43.59L10.3 9.45l-7.72 7.72c-.78.78-.78 2.05 0 2.83L4 21.41c.39.39.9.59 1.41.59.51 0 1.02-.2 1.41-.59l7.78-7.78 2.81-2.81c.8-.78.8-2.07 0-2.86zM5.41 20L4 18.59l7.72-7.72 1.47 1.35L5.41 20z\"/>\n",
              "  </svg>\n",
              "      </button>\n",
              "      \n",
              "  <style>\n",
              "    .colab-df-container {\n",
              "      display:flex;\n",
              "      flex-wrap:wrap;\n",
              "      gap: 12px;\n",
              "    }\n",
              "\n",
              "    .colab-df-convert {\n",
              "      background-color: #E8F0FE;\n",
              "      border: none;\n",
              "      border-radius: 50%;\n",
              "      cursor: pointer;\n",
              "      display: none;\n",
              "      fill: #1967D2;\n",
              "      height: 32px;\n",
              "      padding: 0 0 0 0;\n",
              "      width: 32px;\n",
              "    }\n",
              "\n",
              "    .colab-df-convert:hover {\n",
              "      background-color: #E2EBFA;\n",
              "      box-shadow: 0px 1px 2px rgba(60, 64, 67, 0.3), 0px 1px 3px 1px rgba(60, 64, 67, 0.15);\n",
              "      fill: #174EA6;\n",
              "    }\n",
              "\n",
              "    [theme=dark] .colab-df-convert {\n",
              "      background-color: #3B4455;\n",
              "      fill: #D2E3FC;\n",
              "    }\n",
              "\n",
              "    [theme=dark] .colab-df-convert:hover {\n",
              "      background-color: #434B5C;\n",
              "      box-shadow: 0px 1px 3px 1px rgba(0, 0, 0, 0.15);\n",
              "      filter: drop-shadow(0px 1px 2px rgba(0, 0, 0, 0.3));\n",
              "      fill: #FFFFFF;\n",
              "    }\n",
              "  </style>\n",
              "\n",
              "      <script>\n",
              "        const buttonEl =\n",
              "          document.querySelector('#df-8deacae6-e8ab-4ce5-acdd-6f5724b44b04 button.colab-df-convert');\n",
              "        buttonEl.style.display =\n",
              "          google.colab.kernel.accessAllowed ? 'block' : 'none';\n",
              "\n",
              "        async function convertToInteractive(key) {\n",
              "          const element = document.querySelector('#df-8deacae6-e8ab-4ce5-acdd-6f5724b44b04');\n",
              "          const dataTable =\n",
              "            await google.colab.kernel.invokeFunction('convertToInteractive',\n",
              "                                                     [key], {});\n",
              "          if (!dataTable) return;\n",
              "\n",
              "          const docLinkHtml = 'Like what you see? Visit the ' +\n",
              "            '<a target=\"_blank\" href=https://colab.research.google.com/notebooks/data_table.ipynb>data table notebook</a>'\n",
              "            + ' to learn more about interactive tables.';\n",
              "          element.innerHTML = '';\n",
              "          dataTable['output_type'] = 'display_data';\n",
              "          await google.colab.output.renderOutput(dataTable, element);\n",
              "          const docLink = document.createElement('div');\n",
              "          docLink.innerHTML = docLinkHtml;\n",
              "          element.appendChild(docLink);\n",
              "        }\n",
              "      </script>\n",
              "    </div>\n",
              "  </div>\n",
              "  "
            ],
            "text/plain": [
              "  filter  time    mag  magerr  upperlimit   logtime\n",
              "0      V    66  13.21    0.24           0  1.819544\n",
              "1      V    67  12.90    0.23           0  1.826075\n",
              "2      V    68  12.86    0.23           0  1.832509\n",
              "3      V    69  13.01    0.23           0  1.838849\n",
              "4      V    70  12.97    0.23           0  1.845098"
            ]
          },
          "metadata": {},
          "execution_count": 80
        }
      ]
    },
    {
      "cell_type": "markdown",
      "source": [
        "###Data Visualisation"
      ],
      "metadata": {
        "id": "OuVlckPava6E"
      }
    },
    {
      "cell_type": "code",
      "source": [
        "#retrieving all magnitudes for a filter, dump it into a different frame??\n",
        "grbAG1=grbAG.loc[grbAG[\"filter\"] == f, \"mag\"]\n",
        "grbAG1.head()"
      ],
      "metadata": {
        "colab": {
          "base_uri": "https://localhost:8080/"
        },
        "id": "94WGqrotwbd5",
        "outputId": "2316d047-d5bd-4447-8715-a99b78c02761"
      },
      "execution_count": 82,
      "outputs": [
        {
          "output_type": "execute_result",
          "data": {
            "text/plain": [
              "Series([], Name: mag, dtype: float64)"
            ]
          },
          "metadata": {},
          "execution_count": 82
        }
      ]
    },
    {
      "cell_type": "code",
      "source": [
        "#create a figure container and an axis object inside of it\n",
        "ax = pl.figure(figsize=(10,10)).add_subplot(111)\n",
        "    \n",
        "#loop on every filter to plot - this will give differnt colors naturally. \n",
        "#Use pl.errorbar to plot the uncertainties\n",
        "\n",
        "for f in grbAG[\"filter\"].unique():\n",
        "         pl.errorbar(x=grbAG.loc[grbAG[\"filter\"] == f, \"logtime\"],\n",
        "                     y=grbAG.loc[grbAG[\"filter\"] == f, \"mag\"],\n",
        "                    yerr=grbAG.loc[grbAG[\"filter\"] == f, \"magerr\"], \n",
        "                     fmt=\"o\")\n",
        "    \n",
        "# plot the upperlimits as arrows \n",
        "for i in grbAG[grbAG.upperlimit == 1].index:\n",
        "         pl.arrow(grbAG.loc[i].logtime, \n",
        "             grbAG.loc[i].magerr, 0, 2, \n",
        "            head_width=0.05, head_length=0.1, ec='k')\n",
        "\n",
        "# I am going to invert the y axis because the \"magnitude\" measurement is an inverse scale: brighter is smaller\n",
        "pl.ylim(24.5,11.7) \n",
        "pl.xlim(1.6, 6.5)         \n",
        "pl.legend(grbAG[\"filter\"].unique())\n",
        "\n",
        "#Always rememebr you axis labels!!\n",
        "pl.ylabel(\"magnitude\", fontsize=20)\n",
        "pl.xlabel(\"log time (sec after explosion)\", fontsize=20);"
      ],
      "metadata": {
        "colab": {
          "base_uri": "https://localhost:8080/",
          "height": 620
        },
        "id": "Tqf325bgvdFT",
        "outputId": "4687e3f2-3558-4743-dfe7-0c91462ee516"
      },
      "execution_count": 83,
      "outputs": [
        {
          "output_type": "display_data",
          "data": {
            "image/png": "[encoded data removed]",
            "text/plain": [
              "<Figure size 720x720 with 1 Axes>"
            ]
          },
          "metadata": {}
        }
      ]
    },
    {
      "cell_type": "markdown",
      "source": [
        "*Figure* 1: Photometry of the Afterglow of GRB 052505A. All photometry is from the Swift satellite and it is obtained from Table 3 of Blustin et al. 2005 https://arxiv.org/pdf/astro-ph/0507515.pdf. The photometric band for each datapoint is indicated in the legend. Time is relative from the estimated moment of explosion of the stellar progenitor. Upperlimits are indicated by down-pointing arrows."
      ],
      "metadata": {
        "id": "h_FJ-_DVqvNz"
      }
    },
    {
      "cell_type": "markdown",
      "source": [
        "#Data cleaning\n",
        "Remove upper limits or censored data"
      ],
      "metadata": {
        "id": "p-NaAJ3h3a0T"
      }
    },
    {
      "cell_type": "code",
      "source": [
        "grbAG=grbAG.loc[grbAG.upperlimit == 0] #Retains the entries with lower limits and removes upper limits"
      ],
      "metadata": {
        "id": "1-ps5ISjrDoY"
      },
      "execution_count": 84,
      "outputs": []
    },
    {
      "cell_type": "markdown",
      "source": [
        "#Fitting models to data \n",
        "- Model 1-Normal Equation (slope and intercept)\n",
        "- Model 2- sklearn linear regression\n",
        "- Model 3 and 4- minimizing an objective objective fx(i.L1 metric and then ii.chi-square)"
      ],
      "metadata": {
        "id": "FgjP-_GN3hgU"
      }
    },
    {
      "cell_type": "code",
      "source": [
        "x = grbAG['logtime'] # logtime is the exogenous variable?\n",
        "\n",
        "X = np.c_[np.ones((len(grbAG), 1)), #changes shape of the logtime variable\n",
        "          x]\n",
        "\n",
        "y = grbAG['mag']\n",
        "\n",
        "print(\"shape of the input array X\", X.shape)\n",
        "print(\"shape of the input array y\", y.shape)\n",
        "#note the shape in python is flipped compared to the shape in linear algebra"
      ],
      "metadata": {
        "colab": {
          "base_uri": "https://localhost:8080/"
        },
        "id": "OX-8QptEt2HA",
        "outputId": "b643a5db-6c21-49c5-802a-6ad06795c57d"
      },
      "execution_count": 85,
      "outputs": [
        {
          "output_type": "stream",
          "name": "stdout",
          "text": [
            "shape of the input array X (108, 2)\n",
            "shape of the input array y (108,)\n"
          ]
        }
      ]
    },
    {
      "cell_type": "markdown",
      "source": [
        "### 1. Normal Equation"
      ],
      "metadata": {
        "id": "eWQwIstsz6-P"
      }
    },
    {
      "cell_type": "code",
      "source": [
        "theta_best = np.linalg.inv(X.T.dot(X)).dot(X.T).dot(y)\n",
        "                                           \n",
        "print (\"best fit parameters from the Normal Equation: \" + \n",
        "       \"intercept {:.2f}, slope {:.2f}\".format(*theta_best))"
      ],
      "metadata": {
        "colab": {
          "base_uri": "https://localhost:8080/"
        },
        "id": "ZfTWMTOVwv3v",
        "outputId": "0fb683a2-74e4-42d6-f29e-23783b7c387f"
      },
      "execution_count": 86,
      "outputs": [
        {
          "output_type": "stream",
          "name": "stdout",
          "text": [
            "best fit parameters from the Normal Equation: intercept 8.58, slope 2.51\n"
          ]
        }
      ]
    },
    {
      "cell_type": "markdown",
      "source": [
        "### 2. Fitting a line to the data with sklearn LinearRegression"
      ],
      "metadata": {
        "id": "irQlwnsPzx6K"
      }
    },
    {
      "cell_type": "code",
      "source": [
        "#note: imports should be moved to the top cell - follow PEP8 guidelines\n",
        "from sklearn.linear_model import LinearRegression\n",
        "\n",
        "#sklearn is an object oriented package. You will call the function which will create a model\n",
        "lr=LinearRegression()\n",
        "lr.fit(X,y) #fitting the model\n",
        "\n",
        "print (\"best fit parameters from the sklearn LinearRegression(): \" + \n",
        "       \"intercept {:.2f}, slope {:.2f}\".format(lr.intercept_, lr.coef_[1])) #this will spit out intercept and coefficients"
      ],
      "metadata": {
        "colab": {
          "base_uri": "https://localhost:8080/"
        },
        "id": "RP1CLetNzlgU",
        "outputId": "7e456569-94a8-4cb2-a32e-f9ecb24285e5"
      },
      "execution_count": 87,
      "outputs": [
        {
          "output_type": "stream",
          "name": "stdout",
          "text": [
            "best fit parameters from the sklearn LinearRegression(): intercept 8.58, slope 2.51\n"
          ]
        }
      ]
    },
    {
      "cell_type": "markdown",
      "source": [
        "### 3. Minimizing an objective function"
      ],
      "metadata": {
        "id": "6u8VJLAf1tj4"
      }
    },
    {
      "cell_type": "markdown",
      "source": [
        "#### a.) L1 metric"
      ],
      "metadata": {
        "id": "9NyUr9Fb6voS"
      }
    },
    {
      "cell_type": "code",
      "source": [
        "# Choose the L1 metric to use as an objective function\n",
        "\n",
        "#note: imports should be moved to the top cell - follow PEP8 guidelines\n",
        "from scipy.optimize import minimize\n",
        "\n",
        "def line(x, intercept, slope):\n",
        "    return (x*slope + intercept)\n",
        "\n",
        "def l1(args, x, y):\n",
        "    a, b = args\n",
        "    differences = y - line(x,b,a)\n",
        "    return  sum(abs(differences)) #see slides!\n",
        "\n",
        "#this can be important, a bad choice can get us stuck in a local minimum. But for this simple problem we can just guess whaetever\n",
        "initialGuess = (10, 1) \n",
        "\n",
        "l1Solution = minimize(l1, initialGuess, args=(x, y))\n",
        "print(l1Solution)\n",
        "print(\"\") #prints out space between L1 solution and slope, intercept\n",
        "print(\"best fit parameters from the minimization of L1: \" + \n",
        "       \"slope {:.2f}, intercept {:.2f}\".format(*l1Solution.x))"
      ],
      "metadata": {
        "colab": {
          "base_uri": "https://localhost:8080/"
        },
        "id": "LEl8qBIO1tH8",
        "outputId": "70827d2c-2668-41ee-eeb7-598380e40858"
      },
      "execution_count": 88,
      "outputs": [
        {
          "output_type": "stream",
          "name": "stdout",
          "text": [
            "      fun: 26.304340597340804\n",
            " hess_inv: array([[ 0.00759366, -0.01591281],\n",
            "       [-0.01591281,  0.03413314]])\n",
            "      jac: array([-1.95810866,  0.        ])\n",
            "  message: 'Desired error not necessarily achieved due to precision loss.'\n",
            "     nfev: 271\n",
            "      nit: 11\n",
            "     njev: 66\n",
            "   status: 2\n",
            "  success: False\n",
            "        x: array([2.64023314, 8.22681691])\n",
            "\n",
            "best fit parameters from the minimization of L1: slope 2.64, intercept 8.23\n"
          ]
        }
      ]
    },
    {
      "cell_type": "markdown",
      "source": [
        "#### a.) Pearson's chi squared"
      ],
      "metadata": {
        "id": "hs69fCi467Ei"
      }
    },
    {
      "cell_type": "code",
      "source": [
        "def chi2(args, x, y, s):\n",
        "    a, b = args\n",
        "    return sum((y-line(x,b,a))**2/s**2) #see notes\n",
        "\n",
        "s =grbAG.magerr.values # assign the uncertainties to s. Its the column names \"magerr\"\n",
        "\n",
        "initialGuess = (10, 1)\n",
        "\n",
        "chi2Solution = minimize(chi2, initialGuess, args=(x, y, s))\n",
        "\n",
        "print(chi2Solution)\n",
        "print(\"\")\n",
        "print(\"best fit parameters from the minimization of the chi squared: \" + \n",
        "       \"slope {:.2f}, intercept {:.2f}\".format(*chi2Solution.x))"
      ],
      "metadata": {
        "colab": {
          "base_uri": "https://localhost:8080/"
        },
        "id": "fHQInp0t7X-5",
        "outputId": "c85528e7-5ca8-4d66-8ead-97e9cb79ba08"
      },
      "execution_count": 89,
      "outputs": [
        {
          "output_type": "stream",
          "name": "stdout",
          "text": [
            "      fun: 317.4206698013087\n",
            " hess_inv: array([[ 0.00020171, -0.00054289],\n",
            "       [-0.00054289,  0.00155851]])\n",
            "      jac: array([0., 0.])\n",
            "  message: 'Optimization terminated successfully.'\n",
            "     nfev: 36\n",
            "      nit: 6\n",
            "     njev: 9\n",
            "   status: 0\n",
            "  success: True\n",
            "        x: array([2.48019101, 8.59948748])\n",
            "\n",
            "best fit parameters from the minimization of the chi squared: slope 2.48, intercept 8.60\n"
          ]
        }
      ]
    },
    {
      "cell_type": "markdown",
      "source": [
        "#Deliverable -Plot all solutions/models with a legend\n",
        "To do this best, you can create a function that uses the parameters you input and plots a line. Add a legend that describes which line corresponds to what.Include figure caption"
      ],
      "metadata": {
        "id": "IwY3Xzr74NXu"
      }
    },
    {
      "cell_type": "code",
      "source": [
        "def plotline(intercept, slope, color, linestyle):\n",
        "  x_output= np.linspace(start=1.5,stop=6.5,num=10)\n",
        "  y_output= line(x_output, intercept, slope)\n",
        "  ax.plot(x_output, y_output, color, linestyle)\n",
        "\n",
        "ax = pl.figure(figsize=(10,10)).add_subplot(111)\n",
        "\n",
        "# plot the datapoints as above as errorbars\n",
        "# plot the upperlimits as arrows (see above)\n",
        "\n",
        "#plot the models\n",
        "for f in grbAG[\"filter\"].unique():\n",
        "  pl.errorbar(x=grbAG.loc[grbAG[\"filter\"] == f, \"logtime\"],\n",
        "              y=grbAG.loc[grbAG[\"filter\"] == f, \"mag\"],\n",
        "              yerr=grbAG.loc[grbAG[\"filter\"] == f, \"magerr\"], \n",
        "              fmt='o')\n",
        "pl.ylim(24,11.7)          \n",
        "pl.legend(grbAG[\"filter\"].unique())\n",
        "\n",
        "##PLOT THE MODELS\n",
        "#normal equation\n",
        "plotline(theta_best[0], theta_best[1], 'red', 'solid')      \n",
        "#sklearn\n",
        "plotline(lr.intercept_, lr.coef_[1], 'orange', 'dashed')      \n",
        "#minimize L1\n",
        "plotline(l1Solution.x[1],l1Solution.x[0], 'yellow','dotted') \n",
        "#minimize chi2\n",
        "plotline(chi2Solution.x[1], chi2Solution.x[0], 'green','dashdot')\n",
        "        \n",
        "ax.legend(labels = (\"Normal Equation\", \"Sklearn\",'L1 minimization', 'ChiSq Regression'))\n",
        "\n",
        "#with the LinearRegression object I can also do\n",
        "#pl.plot(grbAG.logtime, lr.predict(np.c_[np.ones((len(grbAG), 1)), grbAG.logtime]), 'k-')\n",
        "\n",
        "pl.ylim(24.5,11.7)\n",
        "pl.xlim(1.5, 6.5)\n",
        "pl.ylabel(\"magnitude\", fontsize=20)\n",
        "pl.xlabel(\"log time (sec after explosion)\", fontsize=20);"
      ],
      "metadata": {
        "colab": {
          "base_uri": "https://localhost:8080/",
          "height": 620
        },
        "id": "ABhYw8AH9Fby",
        "outputId": "4f948544-2194-4072-dbe1-1e32216d91b0"
      },
      "execution_count": 91,
      "outputs": [
        {
          "output_type": "display_data",
          "data": {
            "image/png": "[encoded data removed]",
            "text/plain": [
              "<Figure size 720x720 with 1 Axes>"
            ]
          },
          "metadata": {}
        }
      ]
    },
    {
      "cell_type": "markdown",
      "source": [
        "*Figure 2*: Same as Figure 1, but with linear regression models plotted. The models correspond to the best fit line to the data (excluding upper limits) calculated analytically by solving the normal equation, by solving the fit analysitcally with sklearn.LinearRegression(), and by minimizing the objective functions L1 and Chi squared. The models are indicated in the legend."
      ],
      "metadata": {
        "id": "uXEzA-VLCpm3"
      }
    }
  ]
}